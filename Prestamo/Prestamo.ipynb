{
 "cells": [
  {
   "cell_type": "markdown",
   "metadata": {},
   "source": [
    "<h1>Ejemplo de un prestamo</h1>\n",
    "\n",
    "En este caso analizaremos los datos de un conjunto de operaciones de prestamo.\n",
    "Cada fila de datos posee el Id de prestamo y si se efectuo o no.\n",
    "\n",
    "Como primer paso sera capturar los datos a traves de Pandas.\n",
    "Teniendo 2 opciones, desde un directorio local o desde un sitio web usando el modulo Requests.\n",
    "\n",
    "Tambien usaremos Matplotlib para la realizacion de graficos."
   ]
  },
  {
   "cell_type": "code",
   "execution_count": null,
   "metadata": {},
   "outputs": [],
   "source": [
    "import io\n",
    "import requests\n",
    "import pandas as pd\n",
    "import numpy as np\n",
    "import matplotlib as plt\n",
    "%matplotlib inline\n",
    "\n",
    "\n",
    "#leyendo desde una ruta fisica\n",
    "#df = pd.read_csv(\"D:/Yo/code/ADA/Python/Workshop/Prestamo/data/train_es.csv\") #Reading the dataset in a dataframe using Pandas\n",
    "\n",
    "#leyendo desde una ulr\n",
    "url=\"https://shadowdrone.azurewebsites.net/ada/workshop/python/prestamo/data/train_es.csv\"\n",
    "s=requests.get(url).content\n",
    "df=pd.read_csv(io.StringIO(s.decode('utf-8')))"
   ]
  },
  {
   "cell_type": "markdown",
   "metadata": {},
   "source": [
    "Vemos la info de los primeras N filas del dataframe"
   ]
  },
  {
   "cell_type": "code",
   "execution_count": null,
   "metadata": {},
   "outputs": [],
   "source": [
    "df.head(10)"
   ]
  },
  {
   "cell_type": "markdown",
   "metadata": {},
   "source": [
    "Como siguiente paso, analizamos la distribucion de los items y la distribucion por quartiles."
   ]
  },
  {
   "cell_type": "code",
   "execution_count": null,
   "metadata": {},
   "outputs": [],
   "source": [
    "df.describe()"
   ]
  },
  {
   "cell_type": "markdown",
   "metadata": {},
   "source": [
    "Vemos la distribucion por area"
   ]
  },
  {
   "cell_type": "code",
   "execution_count": null,
   "metadata": {},
   "outputs": [],
   "source": [
    "df['Area'].value_counts()"
   ]
  },
  {
   "cell_type": "markdown",
   "metadata": {},
   "source": [
    "Generamos un historigrama de los ingresos. En este caso vemos como hay outliners que representan algunos ingresos muy altos."
   ]
  },
  {
   "cell_type": "code",
   "execution_count": null,
   "metadata": {},
   "outputs": [],
   "source": [
    "df['Ingresos'].hist(bins=50)"
   ]
  },
  {
   "cell_type": "markdown",
   "metadata": {},
   "source": [
    "Generamos los graficos potblox para analizar graficamente la distribucion"
   ]
  },
  {
   "cell_type": "code",
   "execution_count": null,
   "metadata": {},
   "outputs": [],
   "source": [
    "df.boxplot(column='Ingresos')"
   ]
  },
  {
   "cell_type": "code",
   "execution_count": null,
   "metadata": {},
   "outputs": [],
   "source": [
    "df.boxplot(column='Ingresos', by = 'Educacion')"
   ]
  },
  {
   "cell_type": "markdown",
   "metadata": {},
   "source": [
    "Historigrama y boxplot del importe del prestamo"
   ]
  },
  {
   "cell_type": "code",
   "execution_count": null,
   "metadata": {},
   "outputs": [],
   "source": [
    "df['Importe_Prestamo'].hist(bins=50)"
   ]
  },
  {
   "cell_type": "code",
   "execution_count": null,
   "metadata": {},
   "outputs": [],
   "source": [
    "df.boxplot(column='Importe_Prestamo')"
   ]
  },
  {
   "cell_type": "markdown",
   "metadata": {},
   "source": [
    "Aquí generamos unos graficos estadisticos para comprender probabilidades de credito usando tablas pivotantes."
   ]
  },
  {
   "cell_type": "code",
   "execution_count": null,
   "metadata": {},
   "outputs": [],
   "source": [
    "temp1 = df['Historial_Credito'].value_counts(ascending=True)\n",
    "temp2 = df.pivot_table(values='Estado_Prestamo',index=['Historial_Credito'],aggfunc=lambda x: x.map({'S':1,'N':0}).mean())\n",
    "print ('Tabla de Frecuencias para el Historial de Credito:') \n",
    "print (temp1)\n",
    "\n",
    "print ('\\nProbabilidad de obtener credito para cada clase de Historial de Credito:')\n",
    "print (temp2)"
   ]
  },
  {
   "cell_type": "markdown",
   "metadata": {},
   "source": [
    "\n",
    "\n",
    "\n",
    "\n",
    "------------------------\n",
    "Ahora genero graficos"
   ]
  },
  {
   "cell_type": "code",
   "execution_count": null,
   "metadata": {},
   "outputs": [],
   "source": [
    "import matplotlib.pyplot as plt\n",
    "fig = plt.figure(figsize=(10,6))\n",
    "ax1 = fig.add_subplot(121) #121\n",
    "ax1.set_xlabel('Historial_Credito')\n",
    "ax1.set_ylabel('Cantidad de Clientes')\n",
    "ax1.set_title(\"Clientes por Historial de Credito\")\n",
    "temp1.plot(kind='bar')\n",
    "\n",
    "ax2 = fig.add_subplot(122)\n",
    "temp2.plot(kind = 'bar')\n",
    "ax2.set_xlabel('Historial_Credito')\n",
    "ax2.set_ylabel('Probabilidad de obtener el prestamo')\n",
    "ax2.set_title(\"Probabilidad de obtener el prestamo por historial de credito\")"
   ]
  },
  {
   "cell_type": "markdown",
   "metadata": {},
   "source": [
    "Mas graficos en: https://matplotlib.org/3.1.0/api/_as_gen/matplotlib.pyplot.figure.html"
   ]
  },
  {
   "cell_type": "markdown",
   "metadata": {},
   "source": [
    "En este caso hacemos un crosstab del historial de credito por prestamo"
   ]
  },
  {
   "cell_type": "code",
   "execution_count": null,
   "metadata": {},
   "outputs": [],
   "source": [
    "temp3 = pd.crosstab(df['Historial_Credito'], df['Estado_Prestamo'])\n",
    "temp3.plot(kind='bar', stacked=True, color=['red','blue'], grid=False)"
   ]
  },
  {
   "cell_type": "code",
   "execution_count": null,
   "metadata": {},
   "outputs": [],
   "source": [
    "temp4 = pd.crosstab([df['Historial_Credito'],df['Genero']], df['Estado_Prestamo' ])\n",
    "temp4.plot(kind='bar', stacked=True, color=['red','blue', 'green', 'orange'], grid=False)"
   ]
  },
  {
   "cell_type": "markdown",
   "metadata": {},
   "source": [
    "Ya teniendo un panorama de los datos , podremos ver si nos hacen falta llenar datos faltantes y como los llenaremos, y ejecutando diferentes escenarios deacuerdo a las necesidades. Esto se lo conoce como Data munging"
   ]
  },
  {
   "cell_type": "code",
   "execution_count": null,
   "metadata": {},
   "outputs": [],
   "source": [
    "df.apply(lambda x: sum(x.isnull()),axis=0) "
   ]
  },
  {
   "cell_type": "markdown",
   "metadata": {},
   "source": [
    "<h1>Clasificación usando ML, pero primero tenemos que llenar los datos faltantes</h1>"
   ]
  },
  {
   "cell_type": "code",
   "execution_count": null,
   "metadata": {},
   "outputs": [],
   "source": [
    "df['Autonomo'].fillna('No',inplace=True)\n",
    "df['Genero'].fillna(df['Genero'].mode()[0], inplace=True)\n",
    "df['Casado'].fillna(df['Casado'].mode()[0], inplace=True)\n",
    "df['Dependientes'].fillna(df['Dependientes'].mode()[0], inplace=True)\n",
    "df['Dias_Prestamo'].fillna(df['Dias_Prestamo'].mode()[0], inplace=True)\n",
    "df['Historial_Credito'].fillna(df['Historial_Credito'].mode()[0], inplace=True)"
   ]
  },
  {
   "cell_type": "code",
   "execution_count": null,
   "metadata": {},
   "outputs": [],
   "source": [
    "table = df.pivot_table(values='Importe_Prestamo', index='Autonomo' ,columns='Educacion', aggfunc=np.median)\n",
    "# Define function to return value of this pivot_table\n",
    "def fage(x):\n",
    " return table.loc[x['Autonomo'],x['Educacion']]\n",
    "# Replace missing values\n",
    "df['Importe_Prestamo'].fillna(df[df['Importe_Prestamo'].isnull()].apply(fage, axis=1), inplace=True)"
   ]
  },
  {
   "cell_type": "markdown",
   "metadata": {},
   "source": [
    "Logaritmo para opacar a los extremos(outliers)"
   ]
  },
  {
   "cell_type": "code",
   "execution_count": null,
   "metadata": {},
   "outputs": [],
   "source": [
    " df['Importe_Prestamo_log'] = np.log(df['Importe_Prestamo'])\n",
    "df['Importe_Prestamo_log'].hist(bins=20)"
   ]
  },
  {
   "cell_type": "code",
   "execution_count": null,
   "metadata": {},
   "outputs": [],
   "source": [
    "df['TotalIngresos'] = df['Ingresos'] + df['CoIngresos']\n",
    "df['TotalIngresos_log'] = np.log(df['TotalIngresos'])\n",
    "df['TotalIngresos_log'].hist(bins=20) "
   ]
  },
  {
   "cell_type": "markdown",
   "metadata": {},
   "source": [
    "Antes de comenzar, necesitammos transformar aquellos datos del dataframe a numero, porque el sklearn trabaja sobre valores numericos, entonces el LabelEncoder lo que hara es generar una representacion numerica de esos valores escritos en letras."
   ]
  },
  {
   "cell_type": "code",
   "execution_count": null,
   "metadata": {},
   "outputs": [],
   "source": [
    "from sklearn.preprocessing import LabelEncoder\n",
    "var_mod = ['Genero','Casado','Dependientes','Educacion','Autonomo','Area','Estado_Prestamo']\n",
    "le = LabelEncoder()\n",
    "for i in var_mod:\n",
    "    #print(df[i])\n",
    "    df[i] = le.fit_transform(df[i])\n",
    "df.dtypes"
   ]
  },
  {
   "cell_type": "markdown",
   "metadata": {},
   "source": [
    "<h2>Algoritmo de Clasificacion Generico usando CrossValidation</h2>"
   ]
  },
  {
   "cell_type": "code",
   "execution_count": null,
   "metadata": {},
   "outputs": [],
   "source": [
    "#Import models from scikit learn module:\n",
    "from sklearn.linear_model import LogisticRegression\n",
    "#from sklearn.cross_validation import KFold   #For K-fold cross validation\n",
    "from sklearn.model_selection import KFold\n",
    "from sklearn.ensemble import RandomForestClassifier\n",
    "from sklearn.tree import DecisionTreeClassifier, export_graphviz\n",
    "from sklearn import metrics\n",
    "\n",
    "#Generic function for making a classification model and accessing performance:\n",
    "def classification_model(model, data, predictors, outcome):\n",
    "  #Fit the model:\n",
    "  model.fit(data[predictors],data[outcome])\n",
    "  \n",
    "  #Make predictions on training set:\n",
    "  predictions = model.predict(data[predictors])\n",
    "  \n",
    "  #Print accuracy\n",
    "  accuracy = metrics.accuracy_score(predictions,data[outcome])\n",
    "  print (\"Accuracy : %s\" % \"{0:.3%}\".format(accuracy))\n",
    "\n",
    "  #Perform k-fold cross-validation with 5 folds\n",
    "  kf = KFold(n_splits=5) \n",
    "  #kf.get_n_splits(data.shape[0])\n",
    "  error = []\n",
    "  for train, test in kf.split(data):\n",
    "    # Filter training data\n",
    "    train_predictors = (data[predictors].iloc[train,:])\n",
    "    \n",
    "    # The target we're using to train the algorithm.\n",
    "    train_target = data[outcome].iloc[train]\n",
    "    \n",
    "    # Training the algorithm using the predictors and target.\n",
    "    model.fit(train_predictors, train_target)\n",
    "    \n",
    "    #Record error from each cross-validation run\n",
    "    error.append(model.score(data[predictors].iloc[test,:], data[outcome].iloc[test]))\n",
    " \n",
    "  print (\"Cross-Validation Score : %s\" % \"{0:.3%}\".format(np.mean(error)))\n",
    "\n",
    "  #Fit the model again so that it can be refered outside the function:\n",
    "  model.fit(data[predictors],data[outcome]) "
   ]
  },
  {
   "cell_type": "markdown",
   "metadata": {},
   "source": [
    "<h2>Logistic Regression Model - cuantificamos en forma no lineal las variables a analizar</h2>\n",
    "<p>\n",
    "Segun lo analizado antes, podiamos ver que las chances para que puedan aprobarle el credito a alguien puede ser si:\n",
    "\n",
    "- El solicitante tiene un historial de credito(vimos que habia un porcentaje alto de aquellos que tenian historial y se aprobo un prestamo).\n",
    "- Los que tengan ingresos altos incluyendo los propios o los de familiares\n",
    "- Los que tengan nivel alto de educacion\n",
    "- Otro: areas en donde haya perspectivas de crecimiento\n",
    "    </p>"
   ]
  },
  {
   "cell_type": "markdown",
   "metadata": {},
   "source": [
    "Si solo aplicamos solo con la variable 'Historial de Credito'"
   ]
  },
  {
   "cell_type": "code",
   "execution_count": null,
   "metadata": {},
   "outputs": [],
   "source": [
    "# import warnings filter\n",
    "from warnings import simplefilter\n",
    "# ignore all future warnings\n",
    "simplefilter(action='ignore', category=FutureWarning)\n",
    "\n",
    "outcome_var = 'Estado_Prestamo'\n",
    "model = LogisticRegression()\n",
    "predictor_var = ['Historial_Credito']\n",
    "classification_model(model, df,predictor_var,outcome_var)"
   ]
  },
  {
   "cell_type": "markdown",
   "metadata": {},
   "source": [
    "otra prediccion, pero usando mas variables"
   ]
  },
  {
   "cell_type": "code",
   "execution_count": null,
   "metadata": {},
   "outputs": [],
   "source": [
    "#probamos con otras variables\n",
    "predictor_var = ['Historial_Credito','Educacion','Casado','Autonomo','Area']\n",
    "classification_model(model, df,predictor_var,outcome_var)"
   ]
  },
  {
   "cell_type": "markdown",
   "metadata": {},
   "source": [
    "Testeamos con nuevos valores de un archivo de testeo nuevo(5 registros tiene)."
   ]
  },
  {
   "cell_type": "code",
   "execution_count": null,
   "metadata": {},
   "outputs": [],
   "source": [
    "#leyendo desde una ruta fisica\n",
    "#dfT1 = pd.read_csv(\"D:/Yo/code/ADA/Python/Workshop/Prestamo/data/test_es_rgl.csv\") #Reading the dataset in a dataframe using Pandas\n",
    "\n",
    "#leyendo desde una ulr\n",
    "url=\"https://shadowdrone.azurewebsites.net/ada/workshop/python/prestamo/data/test_es_rgl.csv\"\n",
    "s=requests.get(url).content\n",
    "dfT1=pd.read_csv(io.StringIO(s.decode('utf-8')))\n",
    "\n",
    "dfT1.head(10)"
   ]
  },
  {
   "cell_type": "markdown",
   "metadata": {},
   "source": [
    "transformando las variables a valor numerico porque el modelo que usamos necesita los valores numericos."
   ]
  },
  {
   "cell_type": "code",
   "execution_count": null,
   "metadata": {},
   "outputs": [],
   "source": [
    "from sklearn.preprocessing import LabelEncoder\n",
    "var_mod = ['Casado','Educacion','Autonomo','Area']\n",
    "le = LabelEncoder()\n",
    "for i in var_mod:\n",
    "    #print(df[i])\n",
    "    dfT1[i] = le.fit_transform(dfT1[i])\n",
    "dfT1.dtypes"
   ]
  },
  {
   "cell_type": "markdown",
   "metadata": {},
   "source": [
    "Aquí vamos a poder ver a quien le prestariamos dinero."
   ]
  },
  {
   "cell_type": "code",
   "execution_count": null,
   "metadata": {},
   "outputs": [],
   "source": [
    "#print(dfT1)\n",
    "\n",
    "predicciones = model.predict(dfT1)\n",
    "print(predicciones)"
   ]
  },
  {
   "cell_type": "markdown",
   "metadata": {},
   "source": [
    "<h2>Decision Tree - Otro modelo usando mas variables.</h2>"
   ]
  },
  {
   "cell_type": "code",
   "execution_count": null,
   "metadata": {},
   "outputs": [],
   "source": [
    "model = DecisionTreeClassifier()\n",
    "predictor_var = ['Historial_Credito','Genero','Casado','Educacion']\n",
    "classification_model(model, df,predictor_var,outcome_var)"
   ]
  },
  {
   "cell_type": "markdown",
   "metadata": {},
   "source": [
    "Como da mas o menos lo mismo que lo anterior, ponemos las variables numericas ya que el Historial Crediticio sigue dominando"
   ]
  },
  {
   "cell_type": "code",
   "execution_count": null,
   "metadata": {},
   "outputs": [],
   "source": [
    "predictor_var = ['Historial_Credito','Dias_Prestamo','Importe_Prestamo_log']\n",
    "classification_model(model, df,predictor_var,outcome_var)"
   ]
  },
  {
   "cell_type": "code",
   "execution_count": null,
   "metadata": {},
   "outputs": [],
   "source": [
    "#leyendo desde una ruta fisica\n",
    "#dfT2 = pd.read_csv(\"D:/Yo/code/ADA/Python/Workshop/Prestamo/data/test_es_dt.csv\") #Reading the dataset in a dataframe using Pandas\n",
    "\n",
    "#leyendo desde una ulr\n",
    "url=\"https://shadowdrone.azurewebsites.net/ada/workshop/python/prestamo/data/test_es_dt.csv\"\n",
    "s=requests.get(url).content\n",
    "dfT2=pd.read_csv(io.StringIO(s.decode('utf-8')))\n",
    "\n",
    "dfT2.head(10)"
   ]
  },
  {
   "cell_type": "code",
   "execution_count": null,
   "metadata": {},
   "outputs": [],
   "source": [
    "predicciones = model.predict(dfT2)\n",
    "print(predicciones)"
   ]
  },
  {
   "cell_type": "code",
   "execution_count": null,
   "metadata": {},
   "outputs": [],
   "source": []
  }
 ],
 "metadata": {
  "kernelspec": {
   "display_name": "Python 3",
   "language": "python",
   "name": "python3"
  },
  "language_info": {
   "codemirror_mode": {
    "name": "ipython",
    "version": 3
   },
   "file_extension": ".py",
   "mimetype": "text/x-python",
   "name": "python",
   "nbconvert_exporter": "python",
   "pygments_lexer": "ipython3",
   "version": "3.7.6"
  }
 },
 "nbformat": 4,
 "nbformat_minor": 4
}
